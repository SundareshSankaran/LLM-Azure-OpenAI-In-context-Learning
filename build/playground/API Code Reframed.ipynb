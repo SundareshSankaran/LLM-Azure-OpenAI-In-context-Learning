{
 "cells": [
  {
   "cell_type": "markdown",
   "id": "c30ad7f0-f6ae-4b5b-9f68-414833b0b494",
   "metadata": {},
   "source": [
    "## Reframing api_code.ipynb as a set of functions"
   ]
  },
  {
   "cell_type": "code",
   "execution_count": 1,
   "id": "f56a5a83",
   "metadata": {},
   "outputs": [],
   "source": [
    "import os\n",
    "from openai import AzureOpenAI\n",
    "import pandas as pd"
   ]
  },
  {
   "cell_type": "code",
   "execution_count": 15,
   "id": "cefc9b64",
   "metadata": {},
   "outputs": [],
   "source": [
    "class lm():\n",
    "    def __init__(self,client = \"\",endpoint = None, deployment_name= None,api_key = None,api_version = None,\n",
    "                temperature = 0.7 ,max_tokens = 16,n = 1):\n",
    "        self.client = client\n",
    "        self.endpoint = endpoint\n",
    "        self.deployment_name = deployment_name\n",
    "        self.api_key = api_key\n",
    "        self.api_version = api_version\n",
    "        self.prompt = []\n",
    "        self.temperature = temperature\n",
    "        self.max_tokens = max_tokens\n",
    "        self.n = n\n",
    "\n",
    "    def set_client(self, endpoint = None, api_key = None, api_version = None):\n",
    "       if endpoint is None:\n",
    "          try:\n",
    "            endpoint = os.environ[\"AZURE_OPENAI_ENDPOINT\"] \n",
    "          except KeyError:\n",
    "            raise ValueError(\"Endpoint must be provided or set in AZURE_OPENAI_ENDPOINT environment variable\")\n",
    "       if api_key is None:\n",
    "            try:\n",
    "                 api_key = os.environ[\"AZURE_OPENAI_API_KEY\"]\n",
    "            except KeyError:\n",
    "                 raise ValueError(\"API key must be provided or set in AZURE_OPENAI_API_KEY environment variable\")\n",
    "       if api_version is None:\n",
    "          try:\n",
    "             api_version = os.environ[\"AZURE_OPENAI_API_VERSION\"]\n",
    "          except KeyError:\n",
    "             raise ValueError(\"API version must be provided or set in AZURE_OPENAI_API_VERSION environment variable\")   \n",
    "          \n",
    "       self.client = AzureOpenAI(api_key = api_key,  api_version = api_version, azure_endpoint = endpoint)\n",
    "\n",
    "    \n",
    "    def get_client(self):\n",
    "        return self.client\n",
    "\n",
    "    def set_prompt(self, system_prompt = None, user_prompt = None, example = None):\n",
    "        if system_prompt == None: \n",
    "            system_prompt = \"You are a helpful assistant. Using the provided context, respond with the answer only.\"\n",
    "        if user_prompt == None:\n",
    "            user_prompt = \"Echo the context.\"\n",
    "        if example is None:\n",
    "             self.prompt = [\n",
    "             {\n",
    "                 \"role\": \"system\",\n",
    "                 \"content\": system_prompt\n",
    "             },\n",
    "             {\n",
    "                 \"role\": \"user\",\n",
    "                 \"content\": f\"{user_prompt}\\n\" \n",
    "             }\n",
    "             ]\n",
    "        else:\n",
    "             self.prompt = [\n",
    "             {\n",
    "                 \"role\": \"system\",\n",
    "                 \"content\": system_prompt\n",
    "             },\n",
    "             {\n",
    "                 \"role\": \"user\",\n",
    "                 \"content\": f\"{user_prompt}\\nExample(s): {example}\\n\"\n",
    "             }\n",
    "             ]\n",
    "    \n",
    "    def get_prompt(self):\n",
    "        return \"\".join((self.prompt[0][\"content\"], self.prompt[1][\"content\"]))\n",
    "    \n",
    "    def get_response(self, context = None, client = None, deployment_name = None, prompt = None, temperature=None, max_tokens=None, n=None, verbose = False):\n",
    "        if client is None:\n",
    "            client = self.client\n",
    "        if deployment_name is None:\n",
    "            deployment_name = self.deployment_name\n",
    "        if prompt is None:\n",
    "            prompt = self.prompt\n",
    "        if temperature is None:\n",
    "            temperature = self.temperature\n",
    "        if max_tokens is None:\n",
    "            max_tokens = self.max_tokens\n",
    "        if n is None:\n",
    "            n = self.n\n",
    "        # if context is none, then do nothing\n",
    "        if context is None or len(context) == 0:\n",
    "            print(\"No context provided\")\n",
    "            return \"\"\n",
    "        else: \n",
    "            prompt[1][\"content\"] = prompt[1][\"content\"] + f\"Context: {context}\"\n",
    "            completion = client.chat.completions.create(\n",
    "                model = deployment_name,\n",
    "                messages = prompt,\n",
    "                temperature = temperature,\n",
    "                max_tokens = max_tokens\n",
    "            )\n",
    "            if verbose:\n",
    "                return completion.choices[0].message.content\n",
    "            return completion.choices[0].message.content\n",
    "        \n",
    "def reset_indf(): \n",
    "    global input_data\n",
    "    input_data = pd.read_csv(\"book_desc.csv\")\n",
    "    new_row = {'title': 'The Crash', 'author': \"Frieda McFadden\", 'description': ''}\n",
    "    input_data.loc[len(input_data)] = new_row\n",
    "    \n",
    "def execute(endpoint=None, api_key=None, api_version=None, system_prompt=None, user_prompt=None, example=None, input_data=None, deployment_name = None): \n",
    "    model = lm()\n",
    "    model.set_client(endpoint, api_key, api_version)\n",
    "    model.set_prompt(system_prompt=system_prompt, user_prompt=user_prompt, example=example)\n",
    "    input_data[\"response\"] = input_data[\"description\"].apply(model.get_response, deployment_name=deployment_name) \n",
    "    return input_data\n",
    "\n",
    "endpoint=\"https://oai-test-ss.openai.azure.com/\"\n",
    "api_key=\"\"\n",
    "api_version=\"2024-05-01-preview\"\n",
    "deployment_name = \"gpt-35-turbo\"\n",
    "example = \"Example: The book is about 11 year old Harry Potter, who receives a letter saying that he is invited to attend Hogwarts, school of witchcraft and wizardry. He then learns that a powerful wizard and his minions are after the sorcerer's stone that will make this evil wizard immortal and undefeatable. Answer: Fantasy\"\n",
    "system_prompt = \"You are a helpful assistant. For each call, use provided example to perform task in precise manner. Return only the answer.\"\n",
    "user_prompt = \"Classify the book into a genre based on the description provided.\""
   ]
  },
  {
   "cell_type": "code",
   "execution_count": 16,
   "id": "09181e3d",
   "metadata": {},
   "outputs": [
    {
     "name": "stdout",
     "output_type": "stream",
     "text": [
      "No context provided\n"
     ]
    }
   ],
   "source": [
    "output_df = execute(endpoint,api_key, api_version, system_prompt, user_prompt, example, input_data, deployment_name)"
   ]
  },
  {
   "cell_type": "code",
   "execution_count": 17,
   "id": "d15c172a",
   "metadata": {},
   "outputs": [
    {
     "data": {
      "text/html": [
       "<div>\n",
       "<style scoped>\n",
       "    .dataframe tbody tr th:only-of-type {\n",
       "        vertical-align: middle;\n",
       "    }\n",
       "\n",
       "    .dataframe tbody tr th {\n",
       "        vertical-align: top;\n",
       "    }\n",
       "\n",
       "    .dataframe thead th {\n",
       "        text-align: right;\n",
       "    }\n",
       "</style>\n",
       "<table border=\"1\" class=\"dataframe\">\n",
       "  <thead>\n",
       "    <tr style=\"text-align: right;\">\n",
       "      <th></th>\n",
       "      <th>title</th>\n",
       "      <th>author</th>\n",
       "      <th>description</th>\n",
       "      <th>response</th>\n",
       "    </tr>\n",
       "  </thead>\n",
       "  <tbody>\n",
       "    <tr>\n",
       "      <th>0</th>\n",
       "      <td>Onyx Storm</td>\n",
       "      <td>Rebecca Yarros</td>\n",
       "      <td>After nearly eighteen months at Basgiath War C...</td>\n",
       "      <td>Answer: Fantasy</td>\n",
       "    </tr>\n",
       "    <tr>\n",
       "      <th>1</th>\n",
       "      <td>Beautiful Ugly</td>\n",
       "      <td>Alice Feeney</td>\n",
       "      <td>Author Grady Green is having the worst best da...</td>\n",
       "      <td>Genre: Mystery/Thriller.</td>\n",
       "    </tr>\n",
       "    <tr>\n",
       "      <th>2</th>\n",
       "      <td>Great Big Beautiful Life</td>\n",
       "      <td>Emily Henry</td>\n",
       "      <td>Alice Scott is an eternal optimist still dream...</td>\n",
       "      <td>Answer: Fiction</td>\n",
       "    </tr>\n",
       "    <tr>\n",
       "      <th>3</th>\n",
       "      <td>The Crash</td>\n",
       "      <td>Frieda McFadden</td>\n",
       "      <td></td>\n",
       "      <td></td>\n",
       "    </tr>\n",
       "  </tbody>\n",
       "</table>\n",
       "</div>"
      ],
      "text/plain": [
       "                      title           author  \\\n",
       "0                Onyx Storm   Rebecca Yarros   \n",
       "1            Beautiful Ugly     Alice Feeney   \n",
       "2  Great Big Beautiful Life      Emily Henry   \n",
       "3                 The Crash  Frieda McFadden   \n",
       "\n",
       "                                         description                  response  \n",
       "0  After nearly eighteen months at Basgiath War C...           Answer: Fantasy  \n",
       "1  Author Grady Green is having the worst best da...  Genre: Mystery/Thriller.  \n",
       "2  Alice Scott is an eternal optimist still dream...           Answer: Fiction  \n",
       "3                                                                               "
      ]
     },
     "execution_count": 17,
     "metadata": {},
     "output_type": "execute_result"
    }
   ],
   "source": [
    "output_df"
   ]
  },
  {
   "cell_type": "code",
   "execution_count": 319,
   "id": "ccc49880",
   "metadata": {},
   "outputs": [
    {
     "data": {
      "text/plain": [
       "'The capital of France is Paris.'"
      ]
     },
     "execution_count": 319,
     "metadata": {},
     "output_type": "execute_result"
    }
   ],
   "source": [
    "model = lm()\n",
    "model.set_client(endpoint=\"https://oai-test-ss.openai.azure.com/\", api_key=\"\", api_version=\"2024-05-01-preview\")\n",
    "model.set_prompt(system_prompt=\"You are a helpful assistant. For each call, use provided example to answer a provided question (Question:) in a concise manner.  Return only the answer.\", user_prompt=\"Echo whatever is provided as context.\", example=\"Example: The capital of France is Paris. Answer: The capital of Fance is Paris.\")\n",
    "# Test 1: Test single call with context (Meaning the cell is not empty)\n",
    "model.get_response(context=\"The capital of France is Paris.\", deployment_name=\"gpt-35-turbo\")\n",
    "\n"
   ]
  },
  {
   "cell_type": "code",
   "execution_count": 320,
   "id": "dc12f969",
   "metadata": {},
   "outputs": [
    {
     "name": "stdout",
     "output_type": "stream",
     "text": [
      "No context provided\n"
     ]
    },
    {
     "data": {
      "text/plain": [
       "''"
      ]
     },
     "execution_count": 320,
     "metadata": {},
     "output_type": "execute_result"
    }
   ],
   "source": [
    "# Test 2: Test single call with no context (Meaning the cell is empty)\n",
    "model.get_response(deployment_name=\"gpt-35-turbo\")"
   ]
  },
  {
   "cell_type": "code",
   "execution_count": 321,
   "id": "5063ec6a",
   "metadata": {},
   "outputs": [
    {
     "data": {
      "text/plain": [
       "'The capital of France is Paris.'"
      ]
     },
     "execution_count": 321,
     "metadata": {},
     "output_type": "execute_result"
    }
   ],
   "source": [
    "# Test 3: Test single call with explicit deployment name\n",
    "model.deployment_name = \"gpt-35-turbo\"\n",
    "model.get_response(context=\"The capital of France is Paris.\")"
   ]
  },
  {
   "cell_type": "code",
   "execution_count": 271,
   "id": "2bc5dac0",
   "metadata": {},
   "outputs": [
    {
     "data": {
      "text/html": [
       "<div>\n",
       "<style scoped>\n",
       "    .dataframe tbody tr th:only-of-type {\n",
       "        vertical-align: middle;\n",
       "    }\n",
       "\n",
       "    .dataframe tbody tr th {\n",
       "        vertical-align: top;\n",
       "    }\n",
       "\n",
       "    .dataframe thead th {\n",
       "        text-align: right;\n",
       "    }\n",
       "</style>\n",
       "<table border=\"1\" class=\"dataframe\">\n",
       "  <thead>\n",
       "    <tr style=\"text-align: right;\">\n",
       "      <th></th>\n",
       "      <th>title</th>\n",
       "      <th>author</th>\n",
       "      <th>description</th>\n",
       "    </tr>\n",
       "  </thead>\n",
       "  <tbody>\n",
       "    <tr>\n",
       "      <th>0</th>\n",
       "      <td>Onyx Storm</td>\n",
       "      <td>Rebecca Yarros</td>\n",
       "      <td>After nearly eighteen months at Basgiath War C...</td>\n",
       "    </tr>\n",
       "    <tr>\n",
       "      <th>1</th>\n",
       "      <td>Beautiful Ugly</td>\n",
       "      <td>Alice Feeney</td>\n",
       "      <td>Author Grady Green is having the worst best da...</td>\n",
       "    </tr>\n",
       "    <tr>\n",
       "      <th>2</th>\n",
       "      <td>Great Big Beautiful Life</td>\n",
       "      <td>Emily Henry</td>\n",
       "      <td>Alice Scott is an eternal optimist still dream...</td>\n",
       "    </tr>\n",
       "  </tbody>\n",
       "</table>\n",
       "</div>"
      ],
      "text/plain": [
       "                      title          author  \\\n",
       "0                Onyx Storm  Rebecca Yarros   \n",
       "1            Beautiful Ugly    Alice Feeney   \n",
       "2  Great Big Beautiful Life     Emily Henry   \n",
       "\n",
       "                                         description  \n",
       "0  After nearly eighteen months at Basgiath War C...  \n",
       "1  Author Grady Green is having the worst best da...  \n",
       "2  Alice Scott is an eternal optimist still dream...  "
      ]
     },
     "execution_count": 271,
     "metadata": {},
     "output_type": "execute_result"
    }
   ],
   "source": [
    "input_data"
   ]
  },
  {
   "cell_type": "code",
   "execution_count": 322,
   "id": "978efe10",
   "metadata": {},
   "outputs": [],
   "source": [
    "# Test 4: Test multiple calls from table; all with context \n",
    "example = \"Example: The book is about 11 year old Harry Potter, who receives a letter saying that he is invited to attend Hogwarts, school of witchcraft and wizardry. He then learns that a powerful wizard and his minions are after the sorcerer's stone that will make this evil wizard immortal and undefeatable. Answer: Fantasy\"\n",
    "system_prompt = \"You are a helpful assistant. For each call, use provided example to perform task in precise manner. Return only the answer.\"\n",
    "user_prompt = \"Classify the book into a genre based on the description provided.\"\n",
    "def execute(): \n",
    "    model = lm()\n",
    "    model.set_client(endpoint=endpoint, api_key=api_key, api_version=api_version)\n",
    "    model.set_prompt(system_prompt=system_prompt, user_prompt=user_prompt, example=example)\n",
    "    input_data[\"response\"] = input_data[\"description\"].apply(model.get_response, deployment_name=\"gpt-35-turbo\") \n",
    "    # df = df.apply(lambda x: np.square(x) if x.name == 'd' else x, axis=1)\n",
    "    # result = input_data[\"response\"] = input_data.apply(lambda x: model.get_response(context= x['description'], deployment_name = \"gpt-35-turbo\" ))\n",
    "   \n",
    "execute()\n"
   ]
  },
  {
   "cell_type": "code",
   "execution_count": 326,
   "id": "ce7e5250",
   "metadata": {},
   "outputs": [
    {
     "data": {
      "text/html": [
       "<div>\n",
       "<style scoped>\n",
       "    .dataframe tbody tr th:only-of-type {\n",
       "        vertical-align: middle;\n",
       "    }\n",
       "\n",
       "    .dataframe tbody tr th {\n",
       "        vertical-align: top;\n",
       "    }\n",
       "\n",
       "    .dataframe thead th {\n",
       "        text-align: right;\n",
       "    }\n",
       "</style>\n",
       "<table border=\"1\" class=\"dataframe\">\n",
       "  <thead>\n",
       "    <tr style=\"text-align: right;\">\n",
       "      <th></th>\n",
       "      <th>title</th>\n",
       "      <th>author</th>\n",
       "      <th>description</th>\n",
       "      <th>response</th>\n",
       "    </tr>\n",
       "  </thead>\n",
       "  <tbody>\n",
       "    <tr>\n",
       "      <th>0</th>\n",
       "      <td>Onyx Storm</td>\n",
       "      <td>Rebecca Yarros</td>\n",
       "      <td>After nearly eighteen months at Basgiath War C...</td>\n",
       "      <td>Fantasy.</td>\n",
       "    </tr>\n",
       "    <tr>\n",
       "      <th>1</th>\n",
       "      <td>Beautiful Ugly</td>\n",
       "      <td>Alice Feeney</td>\n",
       "      <td>Author Grady Green is having the worst best da...</td>\n",
       "      <td>Genre: Mystery/Thriller.</td>\n",
       "    </tr>\n",
       "    <tr>\n",
       "      <th>2</th>\n",
       "      <td>Great Big Beautiful Life</td>\n",
       "      <td>Emily Henry</td>\n",
       "      <td>Alice Scott is an eternal optimist still dream...</td>\n",
       "      <td>Answer: Mystery</td>\n",
       "    </tr>\n",
       "    <tr>\n",
       "      <th>3</th>\n",
       "      <td>The Crash</td>\n",
       "      <td>Frieda McFadden</td>\n",
       "      <td></td>\n",
       "      <td></td>\n",
       "    </tr>\n",
       "  </tbody>\n",
       "</table>\n",
       "</div>"
      ],
      "text/plain": [
       "                      title           author  \\\n",
       "0                Onyx Storm   Rebecca Yarros   \n",
       "1            Beautiful Ugly     Alice Feeney   \n",
       "2  Great Big Beautiful Life      Emily Henry   \n",
       "3                 The Crash  Frieda McFadden   \n",
       "\n",
       "                                         description                  response  \n",
       "0  After nearly eighteen months at Basgiath War C...                  Fantasy.  \n",
       "1  Author Grady Green is having the worst best da...  Genre: Mystery/Thriller.  \n",
       "2  Alice Scott is an eternal optimist still dream...           Answer: Mystery  \n",
       "3                                                                               "
      ]
     },
     "execution_count": 326,
     "metadata": {},
     "output_type": "execute_result"
    }
   ],
   "source": [
    "input_data"
   ]
  },
  {
   "cell_type": "code",
   "execution_count": 291,
   "id": "1830d27f",
   "metadata": {},
   "outputs": [
    {
     "data": {
      "text/plain": [
       "'You are a helpful assistant. For each call, use provided example to answer a provided question (Question:) in a concise manner.  Return only the answer.Echo whatever is provided as context.\\nExample(s): Example: The capital of France is Paris. Answer: The capital of Fance is Paris.\\nContext: The capital of France is Paris.Context: The capital of France is Paris.'"
      ]
     },
     "execution_count": 291,
     "metadata": {},
     "output_type": "execute_result"
    }
   ],
   "source": [
    "model.get_prompt()"
   ]
  },
  {
   "cell_type": "code",
   "execution_count": 324,
   "id": "e2330d50",
   "metadata": {},
   "outputs": [],
   "source": [
    "reset_indf()"
   ]
  },
  {
   "cell_type": "code",
   "execution_count": 325,
   "id": "4cfa2e09",
   "metadata": {},
   "outputs": [
    {
     "name": "stdout",
     "output_type": "stream",
     "text": [
      "No context provided\n",
      "                      title           author  \\\n",
      "0                Onyx Storm   Rebecca Yarros   \n",
      "1            Beautiful Ugly     Alice Feeney   \n",
      "2  Great Big Beautiful Life      Emily Henry   \n",
      "3                 The Crash  Frieda McFadden   \n",
      "\n",
      "                                         description                  response  \n",
      "0  After nearly eighteen months at Basgiath War C...                  Fantasy.  \n",
      "1  Author Grady Green is having the worst best da...  Genre: Mystery/Thriller.  \n",
      "2  Alice Scott is an eternal optimist still dream...           Answer: Mystery  \n",
      "3                                                                               \n"
     ]
    }
   ],
   "source": [
    "# Test 5: Test multiple calls from table; some with no context\n",
    "# Adding new row without a description\n",
    "# new_row = {'title': 'The Crash', 'author': \"Frieda McFadden\", 'description': ''}\n",
    "# input_data.loc[len(input_data)] = new_row\n",
    "execute()\n",
    "print(input_data)\n",
    "# reset_indf()\n",
    "\n"
   ]
  },
  {
   "cell_type": "code",
   "execution_count": 327,
   "id": "ded55779",
   "metadata": {},
   "outputs": [
    {
     "data": {
      "text/html": [
       "<div>\n",
       "<style scoped>\n",
       "    .dataframe tbody tr th:only-of-type {\n",
       "        vertical-align: middle;\n",
       "    }\n",
       "\n",
       "    .dataframe tbody tr th {\n",
       "        vertical-align: top;\n",
       "    }\n",
       "\n",
       "    .dataframe thead th {\n",
       "        text-align: right;\n",
       "    }\n",
       "</style>\n",
       "<table border=\"1\" class=\"dataframe\">\n",
       "  <thead>\n",
       "    <tr style=\"text-align: right;\">\n",
       "      <th></th>\n",
       "      <th>title</th>\n",
       "      <th>author</th>\n",
       "      <th>description</th>\n",
       "      <th>response</th>\n",
       "    </tr>\n",
       "  </thead>\n",
       "  <tbody>\n",
       "    <tr>\n",
       "      <th>0</th>\n",
       "      <td>Onyx Storm</td>\n",
       "      <td>Rebecca Yarros</td>\n",
       "      <td>After nearly eighteen months at Basgiath War C...</td>\n",
       "      <td>Fantasy.</td>\n",
       "    </tr>\n",
       "    <tr>\n",
       "      <th>1</th>\n",
       "      <td>Beautiful Ugly</td>\n",
       "      <td>Alice Feeney</td>\n",
       "      <td>Author Grady Green is having the worst best da...</td>\n",
       "      <td>Genre: Mystery/Thriller.</td>\n",
       "    </tr>\n",
       "    <tr>\n",
       "      <th>2</th>\n",
       "      <td>Great Big Beautiful Life</td>\n",
       "      <td>Emily Henry</td>\n",
       "      <td>Alice Scott is an eternal optimist still dream...</td>\n",
       "      <td>Answer: Mystery</td>\n",
       "    </tr>\n",
       "    <tr>\n",
       "      <th>3</th>\n",
       "      <td>The Crash</td>\n",
       "      <td>Frieda McFadden</td>\n",
       "      <td></td>\n",
       "      <td></td>\n",
       "    </tr>\n",
       "  </tbody>\n",
       "</table>\n",
       "</div>"
      ],
      "text/plain": [
       "                      title           author  \\\n",
       "0                Onyx Storm   Rebecca Yarros   \n",
       "1            Beautiful Ugly     Alice Feeney   \n",
       "2  Great Big Beautiful Life      Emily Henry   \n",
       "3                 The Crash  Frieda McFadden   \n",
       "\n",
       "                                         description                  response  \n",
       "0  After nearly eighteen months at Basgiath War C...                  Fantasy.  \n",
       "1  Author Grady Green is having the worst best da...  Genre: Mystery/Thriller.  \n",
       "2  Alice Scott is an eternal optimist still dream...           Answer: Mystery  \n",
       "3                                                                               "
      ]
     },
     "execution_count": 327,
     "metadata": {},
     "output_type": "execute_result"
    }
   ],
   "source": [
    "input_data"
   ]
  },
  {
   "cell_type": "code",
   "execution_count": null,
   "id": "175fdef8",
   "metadata": {},
   "outputs": [],
   "source": [
    "# Test 6: Test multiple calls from table; all with no examples aka zero-shot prompting"
   ]
  },
  {
   "cell_type": "code",
   "execution_count": 159,
   "id": "4efe468f",
   "metadata": {},
   "outputs": [],
   "source": [
    "model.set_prompt(system_prompt=\"You are a helpful assistant. For each call, use provided example to answer a provided question (Question:) in a concise manner.  Return only the answer.\", user_prompt=\"Echo whatever is provided as context.\", example=\"Example: The capital of France is Paris. Answer: The capital of Fance is Paris.\")"
   ]
  },
  {
   "cell_type": "markdown",
   "id": "a083f420",
   "metadata": {},
   "source": [
    "### Previous Functions"
   ]
  },
  {
   "cell_type": "code",
   "execution_count": 1,
   "id": "e1352016-e4d4-42ce-9b1a-aafbee45eea2",
   "metadata": {},
   "outputs": [],
   "source": [
    "def get_client(endpoint = None, api_key = None, api_version = None):\n",
    "    from openai import AzureOpenAI\n",
    "    import os\n",
    "    if endpoint is None:\n",
    "        endpoint = os.environ[\"AZURE_OPENAI_ENDPOINT\"] \n",
    "    if api_key is None:\n",
    "        api_key = os.environ[\"AZURE_OPENAI_API_KEY\"] \n",
    "    if api_version is None:\n",
    "        api_version = os.environ[\"AZURE_OPENAI_API_VERSION\"]\n",
    "\n",
    "    client = AzureOpenAI( api_key = api_key,  api_version = api_version, azure_endpoint = endpoint)\n",
    "    return client\n"
   ]
  },
  {
   "cell_type": "code",
   "execution_count": 329,
   "id": "4838661b-1a55-4fdd-bfd1-b8230b9615e8",
   "metadata": {},
   "outputs": [],
   "source": [
    "def get_prompt(system_prompt = None, user_prompt = None, example = None, context = None):\n",
    "    if system_prompt is None:\n",
    "        system_prompt = \"You are a helpful assistant. For each call, use provided context (Context:) to answer a provided question (Question:) in a concise manner.  Return only the answer.\"\n",
    "    if user_prompt is None:\n",
    "        user_prompt = \"Echo whatever is provided as context.\"\n",
    "    if context is None:\n",
    "        context = \"Echo\"\n",
    "    if example is None: \n",
    "        return [\n",
    "        {\n",
    "            \"role\": \"system\",\n",
    "            \"content\": system_prompt\n",
    "        },\n",
    "        {\n",
    "            \"role\": \"user\",\n",
    "            \"content\": f\"Question: {user_prompt} \\n Context: {context}\" \n",
    "        }\n",
    "        ]\n",
    "    else:\n",
    "        return [\n",
    "        {\n",
    "            \"role\": \"system\",\n",
    "            \"content\": system_prompt\n",
    "        },\n",
    "        {\n",
    "            \"role\": \"user\",\n",
    "            \"content\": f\"Question: {user_prompt}. \\n Example(s): {example} \\n Context: {context}\" \n",
    "        }\n",
    "        ]\n"
   ]
  },
  {
   "cell_type": "code",
   "execution_count": 3,
   "id": "73db8f99-04f3-42c6-90ac-c694dd2b5764",
   "metadata": {},
   "outputs": [],
   "source": [
    "def call_llm(prompt = None, client = None, deployment = None, temperature = None):\n",
    "    if prompt is None:\n",
    "        prompt = get_prompt()\n",
    "    if client is None:\n",
    "        client = get_client()\n",
    "    if deployment is None:\n",
    "        deployment = os.environ[\"DEPLOYMENT_NAME\"]\n",
    "    if temperature is None:\n",
    "        temperature = 0.7\n",
    "    completion = client.chat.completions.create(\n",
    "        model = deployment,\n",
    "        messages = prompt,\n",
    "        temperature = temperature\n",
    "    )  \n",
    "    return completion.choices[0].message.content"
   ]
  },
  {
   "cell_type": "code",
   "execution_count": 4,
   "id": "40b2b34f-e39f-4961-bd16-a0c0eecfea50",
   "metadata": {},
   "outputs": [],
   "source": [
    "def execute(context = None, user_prompt=None, system_prompt= None):\n",
    "    prompt = get_prompt(context = context, user_prompt = user_prompt, system_prompt = system_prompt)\n",
    "    client = get_client()\n",
    "    return call_llm(prompt = prompt, client = client)\n"
   ]
  },
  {
   "cell_type": "code",
   "execution_count": 7,
   "id": "c7fd45a4-ee7a-40a6-acab-ffa6830a6abb",
   "metadata": {},
   "outputs": [
    {
     "name": "stdout",
     "output_type": "stream",
     "text": [
      "(3, 3)\n"
     ]
    }
   ],
   "source": [
    "import pandas as pd\n",
    "input_data = pd.read_csv(\"book_desc.csv\", skipinitialspace=True)\n",
    "\n",
    "print(input_data.shape)\n",
    "\n",
    "import os\n",
    "os.environ[\"AZURE_OPENAI_ENDPOINT\"] = \"https://oai-test-ss.openai.azure.com/\"\n",
    "os.environ[\"AZURE_OPENAI_API_KEY\"] = \"\"\n",
    "os.environ[\"DEPLOYMENT_NAME\"] = \"gpt-35-turbo\"\n",
    "os.environ[\"AZURE_OPENAI_API_VERSION\"] = \"2024-10-21\"\n",
    "\n",
    "user_prompt = \"Provide a summary of this book in one sentence.\"\n",
    "system_prompt = \"You are a helpful library assistant who categorises books or summarises them, or provides recommendations.\"\n",
    "\n",
    "input_data[\"response\"] = input_data[\"description\"].apply(execute, user_prompt = user_prompt, system_prompt = system_prompt)"
   ]
  }
 ],
 "metadata": {
  "kernelspec": {
   "display_name": "Python 3",
   "language": "python",
   "name": "python3"
  },
  "language_info": {
   "codemirror_mode": {
    "name": "ipython",
    "version": 3
   },
   "file_extension": ".py",
   "mimetype": "text/x-python",
   "name": "python",
   "nbconvert_exporter": "python",
   "pygments_lexer": "ipython3",
   "version": "3.9.6"
  }
 },
 "nbformat": 4,
 "nbformat_minor": 5
}
