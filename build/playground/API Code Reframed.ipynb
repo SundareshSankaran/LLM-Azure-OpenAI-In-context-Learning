{
 "cells": [
  {
   "cell_type": "markdown",
   "id": "c30ad7f0-f6ae-4b5b-9f68-414833b0b494",
   "metadata": {},
   "source": [
    "## Reframing api_code.ipynb as a set of functions"
   ]
  },
  {
   "cell_type": "code",
   "execution_count": 1,
   "id": "e1352016-e4d4-42ce-9b1a-aafbee45eea2",
   "metadata": {},
   "outputs": [],
   "source": [
    "def get_client(endpoint = None, api_key = None, api_version = None):\n",
    "    from openai import AzureOpenAI\n",
    "    import os\n",
    "    if endpoint is None:\n",
    "        endpoint = os.environ[\"AZURE_OPENAI_ENDPOINT\"] \n",
    "    if api_key is None:\n",
    "        api_key = os.environ[\"AZURE_OPENAI_API_KEY\"] \n",
    "    if api_version is None:\n",
    "        api_version = os.environ[\"AZURE_OPENAI_API_VERSION\"]\n",
    "\n",
    "    client = AzureOpenAI( api_key = api_key,  api_version = api_version, azure_endpoint = endpoint)\n",
    "    return client\n"
   ]
  },
  {
   "cell_type": "code",
   "execution_count": 2,
   "id": "4838661b-1a55-4fdd-bfd1-b8230b9615e8",
   "metadata": {},
   "outputs": [],
   "source": [
    "def get_prompt(system_prompt = None, user_prompt = None, context = None):\n",
    "    if system_prompt is None:\n",
    "        system_prompt = \"You are a helpful assistant. For each call, use provided context (Context:) to answer a provided question (Question:) in a concise manner.  Return only the answer.\"\n",
    "    if user_prompt is None:\n",
    "        user_prompt = \"Echo whatever is provided as context.\"\n",
    "    if context is None:\n",
    "        context = \"Echo\"\n",
    "    return [\n",
    "    {\n",
    "        \"role\": \"system\",\n",
    "        \"content\": system_prompt\n",
    "    },\n",
    "    {\n",
    "        \"role\": \"user\",\n",
    "        \"content\": f\"Question: {user_prompt}. Context: {context}\" \n",
    "    }\n",
    "    ]\n"
   ]
  },
  {
   "cell_type": "code",
   "execution_count": 3,
   "id": "73db8f99-04f3-42c6-90ac-c694dd2b5764",
   "metadata": {},
   "outputs": [],
   "source": [
    "def call_llm(prompt = None, client = None, deployment = None, temperature = None):\n",
    "    if prompt is None:\n",
    "        prompt = get_prompt()\n",
    "    if client is None:\n",
    "        client = get_client()\n",
    "    if deployment is None:\n",
    "        deployment = os.environ[\"DEPLOYMENT_NAME\"]\n",
    "    if temperature is None:\n",
    "        temperature = 0.7\n",
    "    completion = client.chat.completions.create(\n",
    "        model = deployment,\n",
    "        messages = prompt,\n",
    "        temperature = temperature\n",
    "    )  \n",
    "    return completion.choices[0].message.content"
   ]
  },
  {
   "cell_type": "code",
   "execution_count": 4,
   "id": "40b2b34f-e39f-4961-bd16-a0c0eecfea50",
   "metadata": {},
   "outputs": [],
   "source": [
    "def execute(context = None, user_prompt=None, system_prompt= None):\n",
    "    prompt = get_prompt(context = context, user_prompt = user_prompt, system_prompt = system_prompt)\n",
    "    client = get_client()\n",
    "    return call_llm(prompt = prompt, client = client)\n"
   ]
  },
  {
   "cell_type": "code",
   "execution_count": 7,
   "id": "c7fd45a4-ee7a-40a6-acab-ffa6830a6abb",
   "metadata": {},
   "outputs": [
    {
     "name": "stdout",
     "output_type": "stream",
     "text": [
      "(3, 3)\n"
     ]
    }
   ],
   "source": [
    "import pandas as pd\n",
    "input_data = pd.read_csv(\"book_desc.csv\", skipinitialspace=True)\n",
    "\n",
    "print(input_data.shape)\n",
    "\n",
    "import os\n",
    "os.environ[\"AZURE_OPENAI_ENDPOINT\"] = \"https://oai-test-ss.openai.azure.com/\"\n",
    "os.environ[\"AZURE_OPENAI_API_KEY\"] = \"\"\n",
    "os.environ[\"DEPLOYMENT_NAME\"] = \"gpt-35-turbo\"\n",
    "os.environ[\"AZURE_OPENAI_API_VERSION\"] = \"2024-10-21\"\n",
    "\n",
    "user_prompt = \"Provide a summary of this book in one sentence.\"\n",
    "system_prompt = \"You are a helpful library assistant who categorises books or summarises them, or provides recommendations.\"\n",
    "\n",
    "input_data[\"response\"] = input_data[\"description\"].apply(execute, user_prompt = user_prompt, system_prompt = system_prompt)"
   ]
  },
  {
   "cell_type": "code",
   "execution_count": 8,
   "id": "082dd75d-95b6-4cc9-9da2-1784b66a350f",
   "metadata": {},
   "outputs": [
    {
     "data": {
      "text/html": [
       "<div>\n",
       "<style scoped>\n",
       "    .dataframe tbody tr th:only-of-type {\n",
       "        vertical-align: middle;\n",
       "    }\n",
       "\n",
       "    .dataframe tbody tr th {\n",
       "        vertical-align: top;\n",
       "    }\n",
       "\n",
       "    .dataframe thead th {\n",
       "        text-align: right;\n",
       "    }\n",
       "</style>\n",
       "<table border=\"1\" class=\"dataframe\">\n",
       "  <thead>\n",
       "    <tr style=\"text-align: right;\">\n",
       "      <th></th>\n",
       "      <th>title</th>\n",
       "      <th>author</th>\n",
       "      <th>description</th>\n",
       "      <th>response</th>\n",
       "    </tr>\n",
       "  </thead>\n",
       "  <tbody>\n",
       "    <tr>\n",
       "      <th>0</th>\n",
       "      <td>Onyx Storm</td>\n",
       "      <td>Rebecca Yarros</td>\n",
       "      <td>After nearly eighteen months at Basgiath War C...</td>\n",
       "      <td>The book follows Violet Sorrengail as she jour...</td>\n",
       "    </tr>\n",
       "    <tr>\n",
       "      <th>1</th>\n",
       "      <td>Beautiful Ugly</td>\n",
       "      <td>Alice Feeney</td>\n",
       "      <td>Author Grady Green is having the worst best da...</td>\n",
       "      <td>\"The Other Mrs. by Mary Kubica\" is a thrilling...</td>\n",
       "    </tr>\n",
       "    <tr>\n",
       "      <th>2</th>\n",
       "      <td>Great Big Beautiful Life</td>\n",
       "      <td>Emily Henry</td>\n",
       "      <td>Alice Scott is an eternal optimist still dream...</td>\n",
       "      <td>Alice Scott and Hayden Anderson are both on Li...</td>\n",
       "    </tr>\n",
       "  </tbody>\n",
       "</table>\n",
       "</div>"
      ],
      "text/plain": [
       "                      title          author  \\\n",
       "0                Onyx Storm  Rebecca Yarros   \n",
       "1            Beautiful Ugly    Alice Feeney   \n",
       "2  Great Big Beautiful Life     Emily Henry   \n",
       "\n",
       "                                         description  \\\n",
       "0  After nearly eighteen months at Basgiath War C...   \n",
       "1  Author Grady Green is having the worst best da...   \n",
       "2  Alice Scott is an eternal optimist still dream...   \n",
       "\n",
       "                                            response  \n",
       "0  The book follows Violet Sorrengail as she jour...  \n",
       "1  \"The Other Mrs. by Mary Kubica\" is a thrilling...  \n",
       "2  Alice Scott and Hayden Anderson are both on Li...  "
      ]
     },
     "execution_count": 8,
     "metadata": {},
     "output_type": "execute_result"
    }
   ],
   "source": [
    "input_data.head(10)"
   ]
  },
  {
   "cell_type": "code",
   "execution_count": null,
   "id": "a4c96a1c-3368-4ce9-b606-e93183dc2d06",
   "metadata": {},
   "outputs": [],
   "source": []
  }
 ],
 "metadata": {
  "kernelspec": {
   "display_name": "Python 3 (ipykernel)",
   "language": "python",
   "name": "python3"
  },
  "language_info": {
   "codemirror_mode": {
    "name": "ipython",
    "version": 3
   },
   "file_extension": ".py",
   "mimetype": "text/x-python",
   "name": "python",
   "nbconvert_exporter": "python",
   "pygments_lexer": "ipython3",
   "version": "3.10.11"
  }
 },
 "nbformat": 4,
 "nbformat_minor": 5
}
