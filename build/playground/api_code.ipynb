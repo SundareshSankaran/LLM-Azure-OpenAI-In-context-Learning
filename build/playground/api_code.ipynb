{
 "cells": [
  {
   "cell_type": "code",
   "execution_count": 1,
   "metadata": {},
   "outputs": [],
   "source": [
    "# pip install openai\n",
    "\n",
    "# imports\n",
    "import os\n",
    "from openai import AzureOpenAI\n",
    "import pandas as pd"
   ]
  },
  {
   "cell_type": "code",

   "execution_count": 2,

   "metadata": {},
   "outputs": [],
   "source": [
    "# initialize authentification credentials\n",
    "endpoint = os.getenv(\"ENDPOINT_URL\", \"https://oai-test-ss.openai.azure.com/\")\n",
    "deployment = os.getenv(\"DEPLOYMENT_NAME\", \"gpt-35-turbo\")\n",

    "api_key = os.getenv(\"AZURE_OPENAI_API_KEY\", \"\")\n",

    "# os.environ[\"AZURE_OPENAI_API_KEY\"] = \n",
    "# os.environ[\"DEPLOYMENT_NAME\"] = SAS.SYMGET(\"genModelDeployment\")\n",
    "# os.environ[\"AZURE_OPENAI_ENDPOINT\"] = SAS.SYMGET(\"azureOpenAIEndpoint\")"
   ]
  },
  {
   "cell_type": "code",

   "execution_count": 3,

   "metadata": {},
   "outputs": [],
   "source": [
    "# Obtain values from UI\n",

    "system_prompt = \"You are a helpful library assistant. For each description of a book, answer the questions asked in a brief manner.  Use one word wherever possible. Provide answer as a key value pair, i.e. Key: Answer\"\n",
    "input_data = pd.read_csv(\"book_desc.csv\")\n",
    "doc_id = \"title\"\n",
    "text_col = \"description\"\n",
    "user_prompt = \"Question: What is the genre of this book? Context: \"\n",

    "temperature = 0.7\n",
    "output_table = pd.DataFrame(columns=[])\n",
    "# input_data= SAS.symget(\"inputData\")\n",
    "# output_table = SAS.symget(\"outputTable\")\n",
    "# system_prompt = SAS.symget(\"system_prompt\")\n",
    "# user_prompt = SAS.symget(\"user_prompt\")\n",
    "# text_col = SAS.symget(\"textcol\")\n",
    "# temperature = SAS.symget(temperature)\n",

    "\n",
    "\n"

   ]
  },
  {
   "cell_type": "code",

   "execution_count": 4,

   "metadata": {},
   "outputs": [],
   "source": [
    "# initialize the AzureOpenAI client\n",
    "client = AzureOpenAI(\n",
    "    api_key=api_key,\n",
    "    api_version=\"2024-10-21\", \n",
    "    azure_endpoint=endpoint\n",
    ")\n"
   ]
  },
  {
   "cell_type": "code",
   "execution_count": 5,

   "metadata": {},
   "outputs": [],
   "source": [
    "def call_llm(context): \n",
    "    # generate prompt\n",
    "    chat_prompt = [\n",
    "    {\n",
    "        \"role\": \"system\",\n",
    "        \"content\": system_prompt\n",
    "    },\n",
    "    {\n",
    "        \"role\": \"user\",\n",
    "        \"content\": user_prompt + context \n",
    "    }\n",
    "    ]\n",
    "    \n",
    "    # call the llm \n",
    "    completion = client.chat.completions.create(\n",
    "        model = deployment,\n",
    "        messages = chat_prompt,\n",
    "        temperature = temperature\n",
    "    )  \n",
    "    return completion.choices[0].message.content"
   ]
  },
  {
   "cell_type": "code",

   "execution_count": 6,
   "metadata": {},
   "outputs": [],
   "source": [
    "output_table[\"response\"]= input_data[text_col].apply(call_llm)"

   ]
  },
  {
   "cell_type": "code",

   "execution_count": 7,

   "metadata": {},
   "outputs": [
    {
     "data": {
      "text/html": [
       "<div>\n",
       "<style scoped>\n",
       "    .dataframe tbody tr th:only-of-type {\n",
       "        vertical-align: middle;\n",
       "    }\n",
       "\n",
       "    .dataframe tbody tr th {\n",
       "        vertical-align: top;\n",
       "    }\n",
       "\n",
       "    .dataframe thead th {\n",
       "        text-align: right;\n",
       "    }\n",
       "</style>\n",
       "<table border=\"1\" class=\"dataframe\">\n",
       "  <thead>\n",
       "    <tr style=\"text-align: right;\">\n",
       "      <th></th>\n",
       "      <th>response</th>\n",
       "    </tr>\n",
       "  </thead>\n",
       "  <tbody>\n",
       "    <tr>\n",
       "      <th>0</th>\n",

       "      <td>Answer: Fantasy.</td>\n",
       "    </tr>\n",
       "    <tr>\n",
       "      <th>1</th>\n",
       "      <td>Key: Fiction.</td>\n",
       "    </tr>\n",
       "    <tr>\n",
       "      <th>2</th>\n",
       "      <td>Key: Genre - Answer: Fiction</td>\n",

       "    </tr>\n",
       "  </tbody>\n",
       "</table>\n",
       "</div>"
      ],
      "text/plain": [
       "                       response\n",

       "0              Answer: Fantasy.\n",
       "1                 Key: Fiction.\n",
       "2  Key: Genre - Answer: Fiction"
      ]
     },
     "execution_count": 7,

     "metadata": {},
     "output_type": "execute_result"
    }
   ],
   "source": [

    "output_table.head(10)"

   ]
  },
  {
   "cell_type": "code",

   "execution_count": 8,
   "metadata": {},
   "outputs": [],
   "source": [
    "pdf = pd.DataFrame({\"a\":[1,2,3], \"b\":[4,5,6]})\n",
    "\n",
    "def summ(a):\n",
    "    return a**2\n",
    "\n",
    "\n",
    "pdf[\"square\"] = pdf[\"a\"].apply(summ)"

   ]
  },
  {
   "cell_type": "code",

   "execution_count": 9,

   "metadata": {},
   "outputs": [
    {
     "data": {
      "text/html": [
       "<div>\n",
       "<style scoped>\n",
       "    .dataframe tbody tr th:only-of-type {\n",
       "        vertical-align: middle;\n",
       "    }\n",
       "\n",
       "    .dataframe tbody tr th {\n",
       "        vertical-align: top;\n",
       "    }\n",
       "\n",
       "    .dataframe thead th {\n",
       "        text-align: right;\n",
       "    }\n",
       "</style>\n",
       "<table border=\"1\" class=\"dataframe\">\n",
       "  <thead>\n",
       "    <tr style=\"text-align: right;\">\n",
       "      <th></th>\n",

       "      <th>a</th>\n",
       "      <th>b</th>\n",
       "      <th>square</th>\n",

       "    </tr>\n",
       "  </thead>\n",
       "  <tbody>\n",
       "    <tr>\n",
       "      <th>0</th>\n",

       "      <td>1</td>\n",
       "      <td>4</td>\n",
       "      <td>1</td>\n",
       "    </tr>\n",
       "    <tr>\n",
       "      <th>1</th>\n",
       "      <td>2</td>\n",
       "      <td>5</td>\n",
       "      <td>4</td>\n",
       "    </tr>\n",
       "    <tr>\n",
       "      <th>2</th>\n",
       "      <td>3</td>\n",
       "      <td>6</td>\n",
       "      <td>9</td>\n",

       "    </tr>\n",
       "  </tbody>\n",
       "</table>\n",
       "</div>"
      ],
      "text/plain": [

       "   a  b  square\n",
       "0  1  4       1\n",
       "1  2  5       4\n",
       "2  3  6       9"
      ]
     },
     "execution_count": 9,


     "metadata": {},
     "output_type": "execute_result"
    }
   ],
   "source": [

    "pdf"

   ]
  },
  {
   "cell_type": "code",

   "execution_count": null,
   "metadata": {},
   "outputs": [],
   "source": []
  },
  {
   "cell_type": "markdown",
   "metadata": {},
   "source": [
    "## Reframing above code as a set of functions"

   ]
  }
 ],
 "metadata": {
  "kernelspec": {

   "display_name": "3.10.11",

   "language": "python",
   "name": "python3"
  },
  "language_info": {
   "codemirror_mode": {
    "name": "ipython",
    "version": 3
   },
   "file_extension": ".py",
   "mimetype": "text/x-python",
   "name": "python",
   "nbconvert_exporter": "python",
   "pygments_lexer": "ipython3",

   "version": "3.10.11"
  }
 },
 "nbformat": 4,
 "nbformat_minor": 4

}
